{
  "nbformat": 4,
  "nbformat_minor": 0,
  "metadata": {
    "colab": {
      "provenance": [],
      "include_colab_link": true
    },
    "kernelspec": {
      "name": "python3",
      "display_name": "Python 3"
    },
    "language_info": {
      "name": "python"
    }
  },
  "cells": [
    {
      "cell_type": "markdown",
      "metadata": {
        "id": "view-in-github",
        "colab_type": "text"
      },
      "source": [
        "<a href=\"https://colab.research.google.com/github/dorisagusioboechianu-blip/CSC500-Mod-3-Critical-Thinking-Assignment-/blob/main/Doris.ipynb\" target=\"_parent\"><img src=\"https://colab.research.google.com/assets/colab-badge.svg\" alt=\"Open In Colab\"/></a>"
      ]
    },
    {
      "cell_type": "code",
      "execution_count": null,
      "metadata": {
        "id": "3J9VTgFE_mJK"
      },
      "outputs": [],
      "source": [
        "\"\"\"\n",
        "1.Intialize total_price =0\n",
        "2.take input of number of food items from user\n",
        "3.for loop from 1 to number of food items\n",
        "   4. take user input for the item\n",
        "   5. take user input for the price of the item\n",
        "   6.total_price=total_price+user\n",
        "7. print the total_price\n",
        "8.total_price=total_price+total_price*0.18+total_price*0.07\n",
        "total_price=total_price+total_price*0.18+total_price*0.07\n",
        "\n",
        "\"\"\""
      ]
    },
    {
      "cell_type": "code",
      "source": [],
      "metadata": {
        "id": "VLr0_cafJ6ea"
      },
      "execution_count": null,
      "outputs": []
    },
    {
      "cell_type": "code",
      "source": [
        "total_price=0\n",
        "num=int(input(\"Enter the number of food:\"))\n",
        "for i in range(1, num + 1):\n",
        "  item=input(\"Enter the food item:\")\n",
        "  user=float(input(\"Enter the price for the food:$\"))\n",
        "  total_price = total_price + user\n",
        "  print(f\"{item}: {i},${user:.2f}\")\n",
        "print(f\"\\nSubtotal: ${total_price:.2f}\")\n",
        "total_price = total_price + (total_price * 0.18) + (total_price * 0.07)\n",
        "print(f\"Total price with 18% tip and 7% sales tax: ${total_price:.2f}\")\n"
      ],
      "metadata": {
        "colab": {
          "base_uri": "https://localhost:8080/"
        },
        "id": "YwKxAbSnA08Y",
        "outputId": "73880b6c-771a-4118-9a78-8efb00027072"
      },
      "execution_count": null,
      "outputs": [
        {
          "output_type": "stream",
          "name": "stdout",
          "text": [
            "Enter the number of food:2\n",
            "Enter the food item:noodles\n",
            "Enter the price for the food:$10.00\n",
            "noodles: 1,$10.00\n",
            "Enter the food item:rice\n",
            "Enter the price for the food:$9.00\n",
            "rice: 2,$9.00\n",
            "\n",
            "Subtotal: $19.00\n",
            "Total price with 18% tip and 7% sales tax: $23.75\n"
          ]
        }
      ]
    },
    {
      "cell_type": "code",
      "source": [],
      "metadata": {
        "id": "iNYYMf7xv5rt"
      },
      "execution_count": null,
      "outputs": []
    },
    {
      "cell_type": "code",
      "source": [
        "\"\"\"\n",
        "1. Prompt user to enter a time in HH:MM format → store as user_time_str\n",
        "2. Convert user_time_str to time object → user_time\n",
        "3. Get current date and time → now\n",
        "4. Create current_datetime using year, month, day, hour, minute, second from now\n",
        "5. Create target_datetime using year, month, day from now and hour, minute from user_time\n",
        "6. If target_datetime < current_datetime then\n",
        "    a. Add 1 day to target_datetime\n",
        "7. Calculate time_difference = target_datetime - current_datetime\n",
        "8. Convert time_difference to total_hours_left = time_difference.total_seconds / 3600\n",
        "9. Print \"There are approximately [total_hours_left] hours left until [user_time_str]\"\n",
        "\n",
        "\"\"\""
      ],
      "metadata": {
        "id": "y7weHIVhvnTv"
      },
      "execution_count": null,
      "outputs": []
    },
    {
      "cell_type": "code",
      "source": [
        "from datetime import datetime, timedelta\n",
        "\n",
        "def calculate_time_remaining():\n",
        "\n",
        "    user_time_str = input(\"Enter a time (HH:MM), e.g., 14:30: \")\n",
        "    user_time = datetime.strptime(user_time_str, \"%H:%M\").time()\n",
        "    now = datetime.now()\n",
        "    current_datetime = datetime(now.year, now.month, now.day, now.hour, now.minute, now.second)\n",
        "    target_datetime = datetime(now.year, now.month, now.day, user_time.hour, user_time.minute)\n",
        "    if target_datetime < current_datetime:\n",
        "        target_datetime += timedelta(days=1)\n",
        "\n",
        "\n",
        "    time_difference = target_datetime - current_datetime\n",
        "\n",
        "\n",
        "    total_hours_left = time_difference.total_seconds() / 3600\n",
        "\n",
        "    print(f\"There are approximately {total_hours_left:.2f} hours left until {user_time_str}.\")\n",
        "\n",
        "calculate_time_remaining()"
      ],
      "metadata": {
        "colab": {
          "base_uri": "https://localhost:8080/"
        },
        "id": "1fG-R_9gCSOe",
        "outputId": "7b390e76-cde9-454d-8778-85120048baac"
      },
      "execution_count": null,
      "outputs": [
        {
          "output_type": "stream",
          "name": "stdout",
          "text": [
            "Enter a time (HH:MM), e.g., 14:30: 15:40\n",
            "There are approximately 16.42 hours left until 15:40.\n"
          ]
        }
      ]
    },
    {
      "cell_type": "code",
      "source": [],
      "metadata": {
        "id": "zNzxbjd1Ivq1"
      },
      "execution_count": null,
      "outputs": []
    }
  ]
}